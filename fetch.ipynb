{
 "cells": [
  {
   "cell_type": "markdown",
   "metadata": {},
   "source": [
    "# TODO:\n",
    "\n",
    "* Check if file is actually a tar source\n",
    "* "
   ]
  },
  {
   "cell_type": "markdown",
   "metadata": {
    "deletable": true,
    "editable": true
   },
   "source": [
    "# Obtain arxiv ids via RSS"
   ]
  },
  {
   "cell_type": "code",
   "execution_count": 1,
   "metadata": {
    "collapsed": true,
    "deletable": true,
    "editable": true
   },
   "outputs": [],
   "source": [
    "import feedparser\n",
    "\n",
    "import requests, shutil"
   ]
  },
  {
   "cell_type": "code",
   "execution_count": 2,
   "metadata": {
    "collapsed": true,
    "deletable": true,
    "editable": true
   },
   "outputs": [],
   "source": [
    "feed = feedparser.parse('http://arxiv.org/rss/cond-mat.str-el')"
   ]
  },
  {
   "cell_type": "code",
   "execution_count": 28,
   "metadata": {
    "collapsed": false,
    "deletable": true,
    "editable": true,
    "scrolled": false
   },
   "outputs": [
    {
     "data": {
      "text/plain": [
       "[u'1712.04471',\n",
       " u'1712.04511',\n",
       " u'1712.04554',\n",
       " u'1712.04579',\n",
       " u'1712.04632',\n",
       " u'1712.04656',\n",
       " u'1712.04670',\n",
       " u'1712.04679',\n",
       " u'1712.04734',\n",
       " u'1712.04764',\n",
       " u'1712.04822',\n",
       " u'1712.04840',\n",
       " u'1712.04906',\n",
       " u'1712.04920',\n",
       " u'1712.04933',\n",
       " u'1703.02934',\n",
       " u'1706.05469',\n",
       " u'1708.07798',\n",
       " u'1708.08050',\n",
       " u'1709.07990',\n",
       " u'1710.09835',\n",
       " u'1712.01370']"
      ]
     },
     "execution_count": 28,
     "metadata": {},
     "output_type": "execute_result"
    }
   ],
   "source": [
    "ids = [entry['id'].rsplit('/',1)[-1] \n",
    "       for entry in feed['entries']]"
   ]
  },
  {
   "cell_type": "markdown",
   "metadata": {
    "deletable": true,
    "editable": true
   },
   "source": [
    "# Download source file"
   ]
  },
  {
   "cell_type": "code",
   "execution_count": null,
   "metadata": {
    "collapsed": true,
    "deletable": true,
    "editable": true
   },
   "outputs": [],
   "source": [
    "# Source file can be downloaded via\n",
    "#https://arxiv.org/e-print/1712.04906"
   ]
  },
  {
   "cell_type": "code",
   "execution_count": 31,
   "metadata": {
    "collapsed": true,
    "deletable": true,
    "editable": true
   },
   "outputs": [],
   "source": [
    "def id_to_url(id):\n",
    "    \"URL to download the source file for a paper\"\n",
    "    return \"http://arxiv.org/e-print/\" + id"
   ]
  },
  {
   "cell_type": "code",
   "execution_count": null,
   "metadata": {
    "collapsed": true,
    "deletable": true,
    "editable": true
   },
   "outputs": [],
   "source": [
    "def download_source(id):\n",
    "    url = id_to_url(id)\n",
    "    r = requests.get(url, stream=True)\n",
    "    \n",
    "    filename = 'data/' + id + \".gz\"\n",
    "\n",
    "    with open(filename, 'wb') as f:\n",
    "        f.write(r.content)\n",
    "    \n",
    "    del r"
   ]
  },
  {
   "cell_type": "markdown",
   "metadata": {
    "deletable": true,
    "editable": true
   },
   "source": [
    "## Extract tex files"
   ]
  },
  {
   "cell_type": "code",
   "execution_count": 3,
   "metadata": {
    "collapsed": false,
    "deletable": true,
    "editable": true
   },
   "outputs": [],
   "source": [
    "import tarfile\n",
    "\n",
    "tar = tarfile.open(\"data/tmp.tar.gz\")\n",
    "tar.extractall(\"data/\")\n",
    "tar.close()"
   ]
  },
  {
   "cell_type": "code",
   "execution_count": 9,
   "metadata": {
    "collapsed": false,
    "deletable": true,
    "editable": true
   },
   "outputs": [],
   "source": [
    "import os\n",
    "\n",
    "files = os.listdir('data/.')\n",
    "latex_files = [fn for fn in files if fn.endswith(\".tex\")]"
   ]
  },
  {
   "cell_type": "code",
   "execution_count": 10,
   "metadata": {
    "collapsed": false,
    "deletable": true,
    "editable": true
   },
   "outputs": [
    {
     "data": {
      "text/plain": [
       "['main.tex', 'rixs.tex', 'sm.tex']"
      ]
     },
     "execution_count": 10,
     "metadata": {},
     "output_type": "execute_result"
    }
   ],
   "source": [
    "latex_files"
   ]
  },
  {
   "cell_type": "markdown",
   "metadata": {
    "collapsed": false,
    "deletable": true,
    "editable": true
   },
   "source": [
    "## Find comments in tex files"
   ]
  },
  {
   "cell_type": "code",
   "execution_count": 24,
   "metadata": {
    "collapsed": false,
    "deletable": true,
    "editable": true
   },
   "outputs": [
    {
     "ename": "SyntaxError",
     "evalue": "EOL while scanning string literal (<ipython-input-24-32621f5f2815>, line 6)",
     "output_type": "error",
     "traceback": [
      "\u001b[0;36m  File \u001b[0;32m\"<ipython-input-24-32621f5f2815>\"\u001b[0;36m, line \u001b[0;32m6\u001b[0m\n\u001b[0;31m    if(line[1] == '\\'):\u001b[0m\n\u001b[0m                      ^\u001b[0m\n\u001b[0;31mSyntaxError\u001b[0m\u001b[0;31m:\u001b[0m EOL while scanning string literal\n"
     ]
    }
   ],
   "source": [
    "comments = []\n",
    "\n",
    "with open('data/rixs.tex') as f:\n",
    "    for line in f:\n",
    "        if(line[0] == '%'):\n",
    "            if(line[1] == '\\'):\n",
    "               continue\n",
    "            else:\n",
    "                comments.append(line)"
   ]
  },
  {
   "cell_type": "code",
   "execution_count": 23,
   "metadata": {
    "collapsed": false,
    "deletable": true,
    "editable": true
   },
   "outputs": [
    {
     "data": {
      "text/plain": [
       "['%\\\\documentclass[reprint,twocolumn,superscriptaddress,secnumarabic,amssymb, nobibnotes, aps, prb]{revtex4-1}\\n',\n",
       " '%\\\\usepackage{amsmath}    % need for subequations\\n',\n",
       " '%\\\\usepackage{graphicx}    % need for figures\\n',\n",
       " '%\\\\usepackage{verbatim}    % useful for program listings\\n',\n",
       " '%\\\\usepackage{color}           % use if color is used in text\\n',\n",
       " '%\\\\usepackage{subfigure}   % use for side-by-side figures\\n',\n",
       " '%\\\\usepackage{hyperref}    % use for hypertext links, including those to external documents \\n',\n",
       " '%\\\\usepackage{verbatim}  % and URLs\\n',\n",
       " '%\\\\usepackage{epstopdf}\\n',\n",
       " \"%\\\\raggedbottom                 % don't add extra vertical space\\n\",\n",
       " '%\\\\begin{comment}\\n',\n",
       " '%\\\\pagestyle{empty}       % use if page numbers not wanted\\n',\n",
       " '%\\\\end{comment}\\n',\n",
       " '%\\\\renewcommand{\\\\thesubsection}{\\\\Alph{subsection}}\\n',\n",
       " '%\\\\def\\\\laco*{LaCoO$_3$}\\n',\n",
       " '%%%%%%%%%%%%%%%%%%%%%%%%%%%%%%%%%%%%%%%%%%%%%%%%%%%%%\\n',\n",
       " '%The low-energy physics of correlated insulators is typically \\n',\n",
       " '%governed by interactions between the lowest atomic multiplets.\\n',\n",
       " '%Heisenberg magnets are a common example. \\n',\n",
       " '%than their $^3T_{2g}$ counterparts.\\n',\n",
       " '%if the geometrical factors due\\n',\n",
       " '%to finite overlap of the corresponding $e_g$ parts are neglected.\\n',\n",
       " '% be described by an exciton pair of an e$_g$ electron and a t$_{2g}$ hole.\\n',\n",
       " '%It transforms the representation E$_g$$\\\\times$T$_{2g}$ into T$_{2g}$+T$_{1g}$ representation under the cubic symmetry operations.\\n',\n",
       " '%The condensate phase in Co$^{3+}$ species is expected to show novel \\n',\n",
       " '%electro-magnetic response~[refs], opening inventive applications,\\n',\n",
       " '%e.g. in spintronic devices with spontaneous spin-orbit coupling (SOC)~\\\\cite{Kunes2016prl}.}\\n',\n",
       " '%The high-resolution\\n',\n",
       " '%We develop the theoretical description of RIXS for LaCoO$_3$, considering the IS excitonic excitation in the lattice at the $L$-edge threshold. %,\\n',\n",
       " '%and supports experimental findings.\\n',\n",
       " '%, which we apply to analyze our experimental data.\\n',\n",
       " '%It is a unique probe to explore the excitonic scenario in the Co$^{3+}$ perovskites.\\n',\n",
       " '%%%%%%%%%%%%%%%%%%%%%%%%%%%%%%%%%%%%%%%%%%%%%%%%%%%%%%%%%%\\n',\n",
       " '%%%%%%%%%%%%%%%%%%%%%%%%%%%%%%%%%%%%%%%%%%%%%%%%%%%%%%%%%%\\n',\n",
       " '%\\\\section{Result}\\n',\n",
       " '%%%%%%%%%%%%%%%%%%%%%%%%%%%%%%%%%%%%%%%%%%%%%%%%%%%%%%%%%%\\n',\n",
       " '%%%%%%%%%%%%%%%%%%%%%%%%%%%%%%%%%%%%%%%%%%%%%%%%%%%%%%%%%%\\n',\n",
       " '%%%%%%%%%%%%%%%%%%%%%%%%%%%%%%%%%%%%%%%%%%%%%%%%%%%%%%%%%%\\n',\n",
       " '%%%%%%%%%%%%%%%%%%%%%%%%%%%%%%%%%%%%%%%%%%%%%%%%%%%%%%%%%%\\n',\n",
       " '%%%%%%%%%%%%%%%%%%%%%%%%%%%%%%%%%%%%%%%%%%%%%%%%%%%%%%%%%%\\n',\n",
       " '%    (d) Theoretical result for the linear RIXS dichroism along the $\\\\Gamma$ to $X$ points.\\n',\n",
       " '%     The spectra were broadened with the Lorentzian of 100~meV width to mimic\\n',\n",
       " '%     the experimental resolution.\\n',\n",
       " '%\\t(e) The corresponding experimental RIXS intensities obtained with\\n',\n",
       " '%       the vertical ($F_V$: blue) and horizontal ($F_H$: red)\\n',\n",
       " '%    polarization and the linear dichroism ($F_V-F_H$: black).\\n',\n",
       " '%%%%%%%%%%%%%%%%%%%%%%%%%%%%%%%%%%%%%%%%%%%%%%%%%%%%%%%%%%\\n',\n",
       " '%\\n',\n",
       " '%see Fig~\\\\ref{fig1}b.\\n',\n",
       " '%with the origin in the pair-hopping contribution to the electron-electron interaction\\n',\n",
       " '%Figs.~\\\\ref{fig4}d,e show the $\\\\textit{\\\\textbf{q}}$-resolved linear dichroism in the theory and experiment, respectively.\\n',\n",
       " '%We point out that the sign change of dichroism around ($0, 0, 0.50\\\\pi$),\\n',\n",
       " '%originating from the spin-orbit coupling between $d_{zx}\\\\otimes d_{z^2-x^2}$ and $d_{yz}\\\\otimes d_{y^2-z^2}$ branches, is observed both  theoretically and experimentally.\\n',\n",
       " '%It supports identification of the dispersive band with the IS $^3T_{1g}$ excitation.\\n',\n",
       " '%Unfortunately,\\n',\n",
       " '%Is the theoretical extrapolation of the experimental data reliable? \\n',\n",
       " '%Shall the lowest excitation be\\n',\n",
       " '%%%%%%%%%%%%%%%%%%%%%%%%%%%% Discussion and Figure 3??????\\n',\n",
       " '%%%%%%%%%%%%%%%%%%%%%%%%%%%%%%%%%%%%%%%%%%%%%%%%%%%%%%%%%%\\n',\n",
       " '%%%%%%%%%%%%%%%%%%%%%%%%%%%%%%%%%%%%%%%%%%%%%%%%%%%%%%%%%%\\n',\n",
       " '%%%%%%%%%%%%%%%%%%%%%%%%%%%%%%%%%%%%%%%%%%%%%%%%%%%%%%%%%%%%%%%%%%%%%\\n',\n",
       " '%\\\\begin{acknowledgments}\\n',\n",
       " '%\\\\end{acknowledgments}\\n',\n",
       " '%%%%%%%%%%%%%%%%%%%%%%%%%%%%%%%%%%%%%%%%%%%%%%%%%%%%%%%%%%%%%%%%%%%%%\\n',\n",
       " '%analyzed by the X-ray diffractometer. \\n',\n",
       " '%More details of the sample can be found in Ref.~\\xc2\\xa5cite{Tomiyasu2017}.\\n',\n",
       " '%Thus $\\xc2\\xa5delta$ is omitted in the manuscript.\\n',\n",
       " '%which is enough to determine the dispersive nature of the IS excitation.\\n',\n",
       " '%well below the onset of  the first magnetic excitation.\\n',\n",
       " '%The definition of $\\xc2\\xa5theta$ and the scattering angle $\\xc2\\xa5phi$ are illustrated in Fig.~\\xc2\\xa5ref{fig1}b,c.\\n',\n",
       " '%The $\\xc2\\xa5theta$ dependence is measured for $\\xc2\\xa5phi$=90$^\\xc2\\xa5circ$ and 140$^\\xc2\\xa5circ$.\\n',\n",
       " '%Figure~\\xc2\\xa5ref{fig1}d summarizes \\xc2\\xa5textit{\\xc2\\xa5textbf{q}} points measured in this study.\\n',\n",
       " '%More details of the experimental setup and sample can be found in Supplementary Material (SM).\\n']"
      ]
     },
     "execution_count": 23,
     "metadata": {},
     "output_type": "execute_result"
    }
   ],
   "source": [
    "comments"
   ]
  },
  {
   "cell_type": "code",
   "execution_count": null,
   "metadata": {
    "collapsed": true,
    "deletable": true,
    "editable": true
   },
   "outputs": [],
   "source": []
  },
  {
   "cell_type": "code",
   "execution_count": null,
   "metadata": {
    "collapsed": true,
    "deletable": true,
    "editable": true
   },
   "outputs": [],
   "source": []
  },
  {
   "cell_type": "code",
   "execution_count": null,
   "metadata": {
    "collapsed": true,
    "deletable": true,
    "editable": true
   },
   "outputs": [],
   "source": []
  },
  {
   "cell_type": "code",
   "execution_count": null,
   "metadata": {
    "collapsed": true,
    "deletable": true,
    "editable": true
   },
   "outputs": [],
   "source": []
  },
  {
   "cell_type": "code",
   "execution_count": null,
   "metadata": {
    "collapsed": true,
    "deletable": true,
    "editable": true
   },
   "outputs": [],
   "source": []
  },
  {
   "cell_type": "code",
   "execution_count": null,
   "metadata": {
    "collapsed": true,
    "deletable": true,
    "editable": true
   },
   "outputs": [],
   "source": []
  },
  {
   "cell_type": "code",
   "execution_count": null,
   "metadata": {
    "collapsed": true,
    "deletable": true,
    "editable": true
   },
   "outputs": [],
   "source": []
  }
 ],
 "metadata": {
  "kernelspec": {
   "display_name": "Python 2",
   "language": "python",
   "name": "python2"
  },
  "language_info": {
   "codemirror_mode": {
    "name": "ipython",
    "version": 2
   },
   "file_extension": ".py",
   "mimetype": "text/x-python",
   "name": "python",
   "nbconvert_exporter": "python",
   "pygments_lexer": "ipython2",
   "version": "2.7.12"
  }
 },
 "nbformat": 4,
 "nbformat_minor": 2
}
