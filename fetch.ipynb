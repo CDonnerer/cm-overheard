{
 "cells": [
  {
   "cell_type": "markdown",
   "metadata": {
    "deletable": true,
    "editable": true
   },
   "source": [
    "# Obtain arxiv ids via RSS"
   ]
  },
  {
   "cell_type": "code",
   "execution_count": 1,
   "metadata": {
    "collapsed": true,
    "deletable": true,
    "editable": true
   },
   "outputs": [],
   "source": [
    "import feedparser\n",
    "import re\n",
    "import tarfile\n",
    "\n",
    "import os, requests, shutil"
   ]
  },
  {
   "cell_type": "code",
   "execution_count": 2,
   "metadata": {
    "collapsed": true,
    "deletable": true,
    "editable": true
   },
   "outputs": [],
   "source": [
    "feed = feedparser.parse('http://arxiv.org/rss/cond-mat.str-el')"
   ]
  },
  {
   "cell_type": "code",
   "execution_count": 3,
   "metadata": {
    "collapsed": false,
    "deletable": true,
    "editable": true,
    "scrolled": false
   },
   "outputs": [],
   "source": [
    "ids = [entry['id'].rsplit('/',1)[-1] \n",
    "       for entry in feed['entries']]"
   ]
  },
  {
   "cell_type": "code",
   "execution_count": 4,
   "metadata": {
    "collapsed": false
   },
   "outputs": [
    {
     "data": {
      "text/plain": [
       "u'1712.04942'"
      ]
     },
     "execution_count": 4,
     "metadata": {},
     "output_type": "execute_result"
    }
   ],
   "source": [
    "ids[0]"
   ]
  },
  {
   "cell_type": "markdown",
   "metadata": {
    "deletable": true,
    "editable": true
   },
   "source": [
    "# Download source & extract tex"
   ]
  },
  {
   "cell_type": "code",
   "execution_count": 5,
   "metadata": {
    "collapsed": true,
    "deletable": true,
    "editable": true
   },
   "outputs": [],
   "source": [
    "# Source files can be downloaded like so:\n",
    "# https://arxiv.org/e-print/1712.04906\n",
    "# while they don't come with extensions\n",
    "# it seems to be .tar.gz\n",
    "# we will work under this assumption\n",
    "# and hope it doesn't break"
   ]
  },
  {
   "cell_type": "code",
   "execution_count": 6,
   "metadata": {
    "collapsed": true,
    "deletable": true,
    "editable": true
   },
   "outputs": [],
   "source": [
    "def id_to_url(id):\n",
    "    \"URL to download the source file for a paper\"\n",
    "    return \"http://arxiv.org/e-print/\" + id"
   ]
  },
  {
   "cell_type": "code",
   "execution_count": 7,
   "metadata": {
    "collapsed": true,
    "deletable": true,
    "editable": true
   },
   "outputs": [],
   "source": [
    "def download_source(id):\n",
    "    url = id_to_url(id)\n",
    "    path = os.path.join('data', id)\n",
    "    \n",
    "    r = requests.get(url, stream=True)\n",
    "    \n",
    "    if not os.path.exists(path):\n",
    "        os.makedirs(path)\n",
    "    \n",
    "    filename = os.path.join(path, id+'.tar.gz')\n",
    "\n",
    "    with open(filename, 'wb') as f:\n",
    "        f.write(r.content)\n",
    "    \n",
    "    del r"
   ]
  },
  {
   "cell_type": "code",
   "execution_count": 8,
   "metadata": {
    "collapsed": true
   },
   "outputs": [],
   "source": [
    "def extract_tex(id):\n",
    "    path = os.path.join('data', id)\n",
    "    tar = tarfile.open(os.path.join(path,id + '.tar.gz'))\n",
    "    tar.extractall(path)\n",
    "    tar.close()\n",
    "    \n",
    "    files = os.listdir(path)\n",
    "    latex_files = [os.path.join(path,fn) for fn in files if fn.endswith(\".tex\")]\n",
    "    \n",
    "    return latex_files"
   ]
  },
  {
   "cell_type": "code",
   "execution_count": 94,
   "metadata": {
    "collapsed": true
   },
   "outputs": [],
   "source": [
    "download_source(ids[4])"
   ]
  },
  {
   "cell_type": "code",
   "execution_count": 139,
   "metadata": {
    "collapsed": false
   },
   "outputs": [],
   "source": [
    "latex_files = extract_tex(ids[4])"
   ]
  },
  {
   "cell_type": "code",
   "execution_count": 140,
   "metadata": {
    "collapsed": false
   },
   "outputs": [
    {
     "data": {
      "text/plain": [
       "[u'data/1712.05026/mtp2.tex']"
      ]
     },
     "execution_count": 140,
     "metadata": {},
     "output_type": "execute_result"
    }
   ],
   "source": [
    "latex_files"
   ]
  },
  {
   "cell_type": "markdown",
   "metadata": {
    "collapsed": false,
    "deletable": true,
    "editable": true
   },
   "source": [
    "## Scrape comments from tex files"
   ]
  },
  {
   "cell_type": "code",
   "execution_count": 9,
   "metadata": {
    "collapsed": false,
    "deletable": true,
    "editable": true
   },
   "outputs": [],
   "source": [
    "long_comment_regexp = \"^\\s*(%.*)$\"\n",
    "short_comment_regexp = '.*?(%.*)$'"
   ]
  },
  {
   "cell_type": "code",
   "execution_count": 10,
   "metadata": {
    "collapsed": true,
    "deletable": true,
    "editable": true
   },
   "outputs": [],
   "source": [
    "def long_comments_from_lines(lines):\n",
    "\n",
    "    # State variable\n",
    "    comment_started = False \n",
    "    # Contains current comment\n",
    "    comment = []\n",
    "    # Contains list of all comments -- overall output\n",
    "    result = []\n",
    "\n",
    "    for line in lines:\n",
    "        line_is_comment = re.search(long_comment_regexp, line)\n",
    "        if not comment_started and line_is_comment:\n",
    "            # beginning of comment\n",
    "            comment = [line]\n",
    "            comment_started = True\n",
    "        elif comment_started and line_is_comment:\n",
    "            # continuation of comment\n",
    "            comment.append(line_is_comment.group(1))\n",
    "        elif comment_started and not line_is_comment:\n",
    "            # end of comment\n",
    "            result.append(comment)\n",
    "            comment_started = False            \n",
    "        elif not comment_started and not line_is_comment:\n",
    "            # continuation of non-comment\n",
    "            pass\n",
    "\n",
    "    return result"
   ]
  },
  {
   "cell_type": "code",
   "execution_count": 11,
   "metadata": {
    "collapsed": true,
    "deletable": true,
    "editable": true
   },
   "outputs": [],
   "source": [
    "def short_comments_from_lines(lines):\n",
    "\n",
    "    result = []\n",
    "    for line in lines:\n",
    "        if not re.search(long_comment_regexp, line):\n",
    "            match = re.search(short_comment_regexp, line)\n",
    "            if match:\n",
    "                result.append(match.group(1))\n",
    "    return result"
   ]
  },
  {
   "cell_type": "code",
   "execution_count": 12,
   "metadata": {
    "collapsed": false,
    "deletable": true,
    "editable": true
   },
   "outputs": [
    {
     "ename": "NameError",
     "evalue": "name 'latex_files' is not defined",
     "output_type": "error",
     "traceback": [
      "\u001b[0;31m---------------------------------------------------------------------------\u001b[0m",
      "\u001b[0;31mNameError\u001b[0m                                 Traceback (most recent call last)",
      "\u001b[0;32m<ipython-input-12-b2d5ed1aa4e0>\u001b[0m in \u001b[0;36m<module>\u001b[0;34m()\u001b[0m\n\u001b[0;32m----> 1\u001b[0;31m \u001b[0;32mfor\u001b[0m \u001b[0ml\u001b[0m \u001b[0;32min\u001b[0m \u001b[0mlatex_files\u001b[0m\u001b[0;34m:\u001b[0m\u001b[0;34m\u001b[0m\u001b[0m\n\u001b[0m\u001b[1;32m      2\u001b[0m     \u001b[0;32mwith\u001b[0m \u001b[0mopen\u001b[0m\u001b[0;34m(\u001b[0m\u001b[0ml\u001b[0m\u001b[0;34m)\u001b[0m \u001b[0;32mas\u001b[0m \u001b[0mf\u001b[0m\u001b[0;34m:\u001b[0m\u001b[0;34m\u001b[0m\u001b[0m\n\u001b[1;32m      3\u001b[0m         \u001b[0mlines\u001b[0m \u001b[0;34m=\u001b[0m \u001b[0mf\u001b[0m\u001b[0;34m.\u001b[0m\u001b[0mreadlines\u001b[0m\u001b[0;34m(\u001b[0m\u001b[0;34m)\u001b[0m\u001b[0;34m\u001b[0m\u001b[0m\n",
      "\u001b[0;31mNameError\u001b[0m: name 'latex_files' is not defined"
     ]
    }
   ],
   "source": [
    "for l in latex_files:\n",
    "    with open(l) as f:\n",
    "        lines = f.readlines()"
   ]
  },
  {
   "cell_type": "code",
   "execution_count": 153,
   "metadata": {
    "collapsed": false,
    "deletable": true,
    "editable": true
   },
   "outputs": [
    {
     "data": {
      "text/plain": [
       "['% show bookmarks bar?',\n",
       " '% non-Latin characters ',\n",
       " '% show Acrobat',\n",
       " '% show Acrobat ',\n",
       " '% window fit to page when opened',\n",
       " '% fits the width of the page to the window',\n",
       " '% title',\n",
       " '% author',\n",
       " '% subject of the document',\n",
       " '% creator of the document',\n",
       " '% producer of the document',\n",
       " '% list of keywords',\n",
       " '% links in new window',\n",
       " '% false: boxed links; true: colored links',\n",
       " '%red,          % color of internal links (change box color with linkbordercolor)',\n",
       " '% color of links to bibliography',\n",
       " '% color of file links',\n",
       " '% color of external links']"
      ]
     },
     "execution_count": 153,
     "metadata": {},
     "output_type": "execute_result"
    }
   ],
   "source": [
    "short_comments_from_lines(lines)"
   ]
  },
  {
   "cell_type": "code",
   "execution_count": 146,
   "metadata": {
    "collapsed": false,
    "deletable": true,
    "editable": true
   },
   "outputs": [
    {
     "data": {
      "text/plain": [
       "[['%%%%%%%%%%%%%%%%%%%%%%%%%%%%%%%%%%%%%%%%%%%%%%%%%%%%%%%%%%%%%%%%%%%%%%%%%%%%%%%%\\n']]"
      ]
     },
     "execution_count": 146,
     "metadata": {},
     "output_type": "execute_result"
    }
   ],
   "source": [
    "long_comments_from_lines(lines)"
   ]
  },
  {
   "cell_type": "code",
   "execution_count": 15,
   "metadata": {
    "collapsed": false,
    "deletable": true,
    "editable": true
   },
   "outputs": [],
   "source": [
    "def write_comments(ids, long_fn, short_fn,):\n",
    "    \n",
    "    with open(long_fn, 'w') as l_outf:\n",
    "        with open(short_fn, 'w') as s_outf:\n",
    "            \n",
    "            for aid in ids:\n",
    "                try:\n",
    "                    download_source(aid)\n",
    "                    latex_files = extract_tex(aid)\n",
    "        \n",
    "                    for l in latex_files:\n",
    "                        with open(l) as f:\n",
    "                            lines = f.readlines()\n",
    "        \n",
    "                        s_comments = short_comments_from_lines(lines)\n",
    "                        l_comments = long_comments_from_lines(lines)\n",
    "        \n",
    "                        for comment in l_comments:\n",
    "                            l_outf.writelines(comment)\n",
    "                            l_outf.write('\\n')\n",
    "\n",
    "                        for comment in s_comments:\n",
    "                            s_outf.write(comment)\n",
    "                            s_outf.write('\\n')\n",
    "    \n",
    "                except:\n",
    "                    continue"
   ]
  },
  {
   "cell_type": "code",
   "execution_count": 17,
   "metadata": {
    "collapsed": false
   },
   "outputs": [],
   "source": [
    "write_comments(ids,\n",
    "               'comments/long_comments.txt',\n",
    "               'comments/short_comments.txt')"
   ]
  },
  {
   "cell_type": "code",
   "execution_count": null,
   "metadata": {
    "collapsed": true
   },
   "outputs": [],
   "source": []
  },
  {
   "cell_type": "code",
   "execution_count": null,
   "metadata": {
    "collapsed": true
   },
   "outputs": [],
   "source": []
  },
  {
   "cell_type": "code",
   "execution_count": null,
   "metadata": {
    "collapsed": true
   },
   "outputs": [],
   "source": []
  }
 ],
 "metadata": {
  "kernelspec": {
   "display_name": "Python 2",
   "language": "python",
   "name": "python2"
  },
  "language_info": {
   "codemirror_mode": {
    "name": "ipython",
    "version": 2
   },
   "file_extension": ".py",
   "mimetype": "text/x-python",
   "name": "python",
   "nbconvert_exporter": "python",
   "pygments_lexer": "ipython2",
   "version": "2.7.12"
  }
 },
 "nbformat": 4,
 "nbformat_minor": 2
}
